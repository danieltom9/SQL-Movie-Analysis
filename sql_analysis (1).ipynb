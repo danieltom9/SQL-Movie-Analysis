{
 "cells": [
  {
   "cell_type": "code",
   "execution_count": 54,
   "id": "69665fd8",
   "metadata": {
    "deletable": false,
    "editable": false
   },
   "outputs": [],
   "source": [
    "# Initialize Otter\n",
    "import otter\n",
    "grader = otter.Notebook(\"hw05.ipynb\")"
   ]
  },
  {
   "cell_type": "code",
   "execution_count": 55,
   "id": "352afb06",
   "metadata": {},
   "outputs": [],
   "source": [
    "import pandas as pd\n",
    "import numpy as np\n",
    "import seaborn as sns\n",
    "import matplotlib.pyplot as plt\n",
    "import sqlalchemy\n",
    "from pathlib import Path\n",
    "\n",
    "plt.style.use('fivethirtyeight') # Use plt.style.available to see more styles\n",
    "sns.set()\n",
    "sns.set_context(\"talk\")\n",
    "%matplotlib inline"
   ]
  },
  {
   "cell_type": "code",
   "execution_count": 56,
   "id": "736c51f2",
   "metadata": {
    "scrolled": true
   },
   "outputs": [
    {
     "data": {
      "text/plain": [
       "['Name', 'Rating', 'Role', 'Title']"
      ]
     },
     "execution_count": 56,
     "metadata": {},
     "output_type": "execute_result"
    }
   ],
   "source": [
    "# Setup - Load the SQL extension and connect to the Mini IMDB dataset we've prepared\n",
    "db_path = Path('data/imdbmini.db')\n",
    "\n",
    "engine = sqlalchemy.create_engine(f\"sqlite:///{db_path}\")\n",
    "connection = engine.connect()\n",
    "inspector = sqlalchemy.inspect(engine)\n",
    "\n",
    "#Get table names\n",
    "inspector.get_table_names()\n",
    "\n"
   ]
  },
  {
   "cell_type": "code",
   "execution_count": 57,
   "id": "55cceeb7",
   "metadata": {},
   "outputs": [
    {
     "data": {
      "text/html": [
       "<div>\n",
       "<style scoped>\n",
       "    .dataframe tbody tr th:only-of-type {\n",
       "        vertical-align: middle;\n",
       "    }\n",
       "\n",
       "    .dataframe tbody tr th {\n",
       "        vertical-align: top;\n",
       "    }\n",
       "\n",
       "    .dataframe thead th {\n",
       "        text-align: right;\n",
       "    }\n",
       "</style>\n",
       "<table border=\"1\" class=\"dataframe\">\n",
       "  <thead>\n",
       "    <tr style=\"text-align: right;\">\n",
       "      <th></th>\n",
       "      <th>nconst</th>\n",
       "      <th>primaryName</th>\n",
       "      <th>birthYear</th>\n",
       "      <th>deathYear</th>\n",
       "      <th>primaryProfession</th>\n",
       "    </tr>\n",
       "  </thead>\n",
       "  <tbody>\n",
       "    <tr>\n",
       "      <th>0</th>\n",
       "      <td>1</td>\n",
       "      <td>Fred Astaire</td>\n",
       "      <td>1899</td>\n",
       "      <td>1987</td>\n",
       "      <td>soundtrack,actor,miscellaneous</td>\n",
       "    </tr>\n",
       "    <tr>\n",
       "      <th>1</th>\n",
       "      <td>2</td>\n",
       "      <td>Lauren Bacall</td>\n",
       "      <td>1924</td>\n",
       "      <td>2014</td>\n",
       "      <td>actress,soundtrack</td>\n",
       "    </tr>\n",
       "    <tr>\n",
       "      <th>2</th>\n",
       "      <td>3</td>\n",
       "      <td>Brigitte Bardot</td>\n",
       "      <td>1934</td>\n",
       "      <td>None</td>\n",
       "      <td>actress,soundtrack,music_department</td>\n",
       "    </tr>\n",
       "    <tr>\n",
       "      <th>3</th>\n",
       "      <td>4</td>\n",
       "      <td>John Belushi</td>\n",
       "      <td>1949</td>\n",
       "      <td>1982</td>\n",
       "      <td>actor,soundtrack,writer</td>\n",
       "    </tr>\n",
       "    <tr>\n",
       "      <th>4</th>\n",
       "      <td>5</td>\n",
       "      <td>Ingmar Bergman</td>\n",
       "      <td>1918</td>\n",
       "      <td>2007</td>\n",
       "      <td>writer,director,actor</td>\n",
       "    </tr>\n",
       "  </tbody>\n",
       "</table>\n",
       "</div>"
      ],
      "text/plain": [
       "   nconst      primaryName birthYear deathYear  \\\n",
       "0       1     Fred Astaire      1899      1987   \n",
       "1       2    Lauren Bacall      1924      2014   \n",
       "2       3  Brigitte Bardot      1934      None   \n",
       "3       4     John Belushi      1949      1982   \n",
       "4       5   Ingmar Bergman      1918      2007   \n",
       "\n",
       "                     primaryProfession  \n",
       "0       soundtrack,actor,miscellaneous  \n",
       "1                   actress,soundtrack  \n",
       "2  actress,soundtrack,music_department  \n",
       "3              actor,soundtrack,writer  \n",
       "4                writer,director,actor  "
      ]
     },
     "execution_count": 57,
     "metadata": {},
     "output_type": "execute_result"
    }
   ],
   "source": [
    "query_name = \"\"\"\n",
    "SELECT * \n",
    "FROM Name\n",
    "\"\"\"\n",
    "pd.read_sql(query_name, engine).head()"
   ]
  },
  {
   "cell_type": "code",
   "execution_count": 58,
   "id": "b9078eb4",
   "metadata": {},
   "outputs": [
    {
     "data": {
      "text/html": [
       "<div>\n",
       "<style scoped>\n",
       "    .dataframe tbody tr th:only-of-type {\n",
       "        vertical-align: middle;\n",
       "    }\n",
       "\n",
       "    .dataframe tbody tr th {\n",
       "        vertical-align: top;\n",
       "    }\n",
       "\n",
       "    .dataframe thead th {\n",
       "        text-align: right;\n",
       "    }\n",
       "</style>\n",
       "<table border=\"1\" class=\"dataframe\">\n",
       "  <thead>\n",
       "    <tr style=\"text-align: right;\">\n",
       "      <th></th>\n",
       "      <th>index</th>\n",
       "      <th>tconst</th>\n",
       "      <th>averageRating</th>\n",
       "      <th>numVotes</th>\n",
       "    </tr>\n",
       "  </thead>\n",
       "  <tbody>\n",
       "    <tr>\n",
       "      <th>0</th>\n",
       "      <td>0</td>\n",
       "      <td>417</td>\n",
       "      <td>8.2</td>\n",
       "      <td>46382</td>\n",
       "    </tr>\n",
       "    <tr>\n",
       "      <th>1</th>\n",
       "      <td>1</td>\n",
       "      <td>4972</td>\n",
       "      <td>6.3</td>\n",
       "      <td>23836</td>\n",
       "    </tr>\n",
       "    <tr>\n",
       "      <th>2</th>\n",
       "      <td>2</td>\n",
       "      <td>10323</td>\n",
       "      <td>8.1</td>\n",
       "      <td>60244</td>\n",
       "    </tr>\n",
       "    <tr>\n",
       "      <th>3</th>\n",
       "      <td>3</td>\n",
       "      <td>12349</td>\n",
       "      <td>8.3</td>\n",
       "      <td>120059</td>\n",
       "    </tr>\n",
       "    <tr>\n",
       "      <th>4</th>\n",
       "      <td>4</td>\n",
       "      <td>13442</td>\n",
       "      <td>7.9</td>\n",
       "      <td>92218</td>\n",
       "    </tr>\n",
       "  </tbody>\n",
       "</table>\n",
       "</div>"
      ],
      "text/plain": [
       "   index  tconst averageRating numVotes\n",
       "0      0     417           8.2    46382\n",
       "1      1    4972           6.3    23836\n",
       "2      2   10323           8.1    60244\n",
       "3      3   12349           8.3   120059\n",
       "4      4   13442           7.9    92218"
      ]
     },
     "execution_count": 58,
     "metadata": {},
     "output_type": "execute_result"
    }
   ],
   "source": [
    "query_role = \"\"\"\n",
    "SELECT * \n",
    "FROM Rating\n",
    "\"\"\"\n",
    "pd.read_sql(query_role, engine).head()"
   ]
  },
  {
   "cell_type": "code",
   "execution_count": 59,
   "id": "68259080",
   "metadata": {},
   "outputs": [
    {
     "data": {
      "text/html": [
       "<div>\n",
       "<style scoped>\n",
       "    .dataframe tbody tr th:only-of-type {\n",
       "        vertical-align: middle;\n",
       "    }\n",
       "\n",
       "    .dataframe tbody tr th {\n",
       "        vertical-align: top;\n",
       "    }\n",
       "\n",
       "    .dataframe thead th {\n",
       "        text-align: right;\n",
       "    }\n",
       "</style>\n",
       "<table border=\"1\" class=\"dataframe\">\n",
       "  <thead>\n",
       "    <tr style=\"text-align: right;\">\n",
       "      <th></th>\n",
       "      <th>index</th>\n",
       "      <th>tconst</th>\n",
       "      <th>ordering</th>\n",
       "      <th>nconst</th>\n",
       "      <th>category</th>\n",
       "      <th>job</th>\n",
       "      <th>characters</th>\n",
       "    </tr>\n",
       "  </thead>\n",
       "  <tbody>\n",
       "    <tr>\n",
       "      <th>0</th>\n",
       "      <td>0</td>\n",
       "      <td>417</td>\n",
       "      <td>1</td>\n",
       "      <td>617588</td>\n",
       "      <td>actor</td>\n",
       "      <td>None</td>\n",
       "      <td>[\"Prof. Barbenfouillis\",\"The Moon\"]</td>\n",
       "    </tr>\n",
       "    <tr>\n",
       "      <th>1</th>\n",
       "      <td>1</td>\n",
       "      <td>417</td>\n",
       "      <td>2</td>\n",
       "      <td>29244</td>\n",
       "      <td>actor</td>\n",
       "      <td>None</td>\n",
       "      <td>[\"Astronomer\"]</td>\n",
       "    </tr>\n",
       "    <tr>\n",
       "      <th>2</th>\n",
       "      <td>2</td>\n",
       "      <td>417</td>\n",
       "      <td>3</td>\n",
       "      <td>76933</td>\n",
       "      <td>actress</td>\n",
       "      <td>None</td>\n",
       "      <td>[\"Lady in the Moon\"]</td>\n",
       "    </tr>\n",
       "    <tr>\n",
       "      <th>3</th>\n",
       "      <td>3</td>\n",
       "      <td>417</td>\n",
       "      <td>4</td>\n",
       "      <td>1215996</td>\n",
       "      <td>actor</td>\n",
       "      <td>None</td>\n",
       "      <td>[\"Astronomer\"]</td>\n",
       "    </tr>\n",
       "    <tr>\n",
       "      <th>4</th>\n",
       "      <td>4</td>\n",
       "      <td>417</td>\n",
       "      <td>5</td>\n",
       "      <td>894523</td>\n",
       "      <td>writer</td>\n",
       "      <td>novel \"De la Terre à la Lune\"</td>\n",
       "      <td>None</td>\n",
       "    </tr>\n",
       "  </tbody>\n",
       "</table>\n",
       "</div>"
      ],
      "text/plain": [
       "   index  tconst ordering   nconst category                            job  \\\n",
       "0      0     417        1   617588    actor                           None   \n",
       "1      1     417        2    29244    actor                           None   \n",
       "2      2     417        3    76933  actress                           None   \n",
       "3      3     417        4  1215996    actor                           None   \n",
       "4      4     417        5   894523   writer  novel \"De la Terre à la Lune\"   \n",
       "\n",
       "                            characters  \n",
       "0  [\"Prof. Barbenfouillis\",\"The Moon\"]  \n",
       "1                       [\"Astronomer\"]  \n",
       "2                 [\"Lady in the Moon\"]  \n",
       "3                       [\"Astronomer\"]  \n",
       "4                                 None  "
      ]
     },
     "execution_count": 59,
     "metadata": {},
     "output_type": "execute_result"
    }
   ],
   "source": [
    "query_rating = \"\"\"\n",
    "SELECT * \n",
    "FROM Role\n",
    "\"\"\"\n",
    "pd.read_sql(query_rating, engine).head()"
   ]
  },
  {
   "cell_type": "code",
   "execution_count": 60,
   "id": "d1aa82c7",
   "metadata": {},
   "outputs": [
    {
     "data": {
      "text/html": [
       "<div>\n",
       "<style scoped>\n",
       "    .dataframe tbody tr th:only-of-type {\n",
       "        vertical-align: middle;\n",
       "    }\n",
       "\n",
       "    .dataframe tbody tr th {\n",
       "        vertical-align: top;\n",
       "    }\n",
       "\n",
       "    .dataframe thead th {\n",
       "        text-align: right;\n",
       "    }\n",
       "</style>\n",
       "<table border=\"1\" class=\"dataframe\">\n",
       "  <thead>\n",
       "    <tr style=\"text-align: right;\">\n",
       "      <th></th>\n",
       "      <th>tconst</th>\n",
       "      <th>titleType</th>\n",
       "      <th>primaryTitle</th>\n",
       "      <th>originalTitle</th>\n",
       "      <th>isAdult</th>\n",
       "      <th>startYear</th>\n",
       "      <th>endYear</th>\n",
       "      <th>runtimeMinutes</th>\n",
       "      <th>genres</th>\n",
       "    </tr>\n",
       "  </thead>\n",
       "  <tbody>\n",
       "    <tr>\n",
       "      <th>0</th>\n",
       "      <td>417</td>\n",
       "      <td>short</td>\n",
       "      <td>A Trip to the Moon</td>\n",
       "      <td>Le voyage dans la lune</td>\n",
       "      <td>0</td>\n",
       "      <td>1902</td>\n",
       "      <td>None</td>\n",
       "      <td>13</td>\n",
       "      <td>Action,Adventure,Comedy</td>\n",
       "    </tr>\n",
       "    <tr>\n",
       "      <th>1</th>\n",
       "      <td>4972</td>\n",
       "      <td>movie</td>\n",
       "      <td>The Birth of a Nation</td>\n",
       "      <td>The Birth of a Nation</td>\n",
       "      <td>0</td>\n",
       "      <td>1915</td>\n",
       "      <td>None</td>\n",
       "      <td>195</td>\n",
       "      <td>Drama,History,War</td>\n",
       "    </tr>\n",
       "    <tr>\n",
       "      <th>2</th>\n",
       "      <td>10323</td>\n",
       "      <td>movie</td>\n",
       "      <td>The Cabinet of Dr. Caligari</td>\n",
       "      <td>Das Cabinet des Dr. Caligari</td>\n",
       "      <td>0</td>\n",
       "      <td>1920</td>\n",
       "      <td>None</td>\n",
       "      <td>76</td>\n",
       "      <td>Fantasy,Horror,Mystery</td>\n",
       "    </tr>\n",
       "  </tbody>\n",
       "</table>\n",
       "</div>"
      ],
      "text/plain": [
       "   tconst titleType                 primaryTitle  \\\n",
       "0     417     short           A Trip to the Moon   \n",
       "1    4972     movie        The Birth of a Nation   \n",
       "2   10323     movie  The Cabinet of Dr. Caligari   \n",
       "\n",
       "                  originalTitle isAdult startYear endYear runtimeMinutes  \\\n",
       "0        Le voyage dans la lune       0      1902    None             13   \n",
       "1         The Birth of a Nation       0      1915    None            195   \n",
       "2  Das Cabinet des Dr. Caligari       0      1920    None             76   \n",
       "\n",
       "                    genres  \n",
       "0  Action,Adventure,Comedy  \n",
       "1        Drama,History,War  \n",
       "2   Fantasy,Horror,Mystery  "
      ]
     },
     "execution_count": 60,
     "metadata": {},
     "output_type": "execute_result"
    }
   ],
   "source": [
    "query_title = \"\"\"\n",
    "SELECT * \n",
    "FROM Title \n",
    "LIMIT 3\n",
    "\"\"\"\n",
    "pd.read_sql(query_title, engine).head()"
   ]
  },
  {
   "cell_type": "markdown",
   "id": "8a98b6af",
   "metadata": {
    "deletable": false,
    "editable": false
   },
   "source": [
    "## Question 1: Find all *distinct* film roles.\n",
    "\n",
    "<br/>\n",
    "<details>\n",
    "    <summary>▶ [Click to Expand] <b>Hints + Output</b></summary>\n",
    "\n",
    "- Tests: `DISTINCT`\n",
    "- Our solution is 2 lines.\n",
    "- **Hint Data**: The table `Role` contains all film roles.\n",
    "- **Hint**: Use `DISTINCT`\n",
    "</details>\n",
    "\n",
    "The first 3 lines of the table should look like the following (but you should compute the entire table).\n",
    "    \n",
    "|category|\n",
    "|---|\n",
    "|actor|\n",
    "|actress |\n",
    "|writer |\n",
    "\n",
    "<!--\n",
    "BEGIN QUESTION\n",
    "name: q1\n",
    "points: 1\n",
    "-->"
   ]
  },
  {
   "cell_type": "code",
   "execution_count": 61,
   "id": "9e28755e",
   "metadata": {
    "scrolled": true
   },
   "outputs": [
    {
     "data": {
      "text/html": [
       "<div>\n",
       "<style scoped>\n",
       "    .dataframe tbody tr th:only-of-type {\n",
       "        vertical-align: middle;\n",
       "    }\n",
       "\n",
       "    .dataframe tbody tr th {\n",
       "        vertical-align: top;\n",
       "    }\n",
       "\n",
       "    .dataframe thead th {\n",
       "        text-align: right;\n",
       "    }\n",
       "</style>\n",
       "<table border=\"1\" class=\"dataframe\">\n",
       "  <thead>\n",
       "    <tr style=\"text-align: right;\">\n",
       "      <th></th>\n",
       "      <th>category</th>\n",
       "    </tr>\n",
       "  </thead>\n",
       "  <tbody>\n",
       "    <tr>\n",
       "      <th>0</th>\n",
       "      <td>actor</td>\n",
       "    </tr>\n",
       "    <tr>\n",
       "      <th>1</th>\n",
       "      <td>actress</td>\n",
       "    </tr>\n",
       "    <tr>\n",
       "      <th>2</th>\n",
       "      <td>writer</td>\n",
       "    </tr>\n",
       "    <tr>\n",
       "      <th>3</th>\n",
       "      <td>composer</td>\n",
       "    </tr>\n",
       "    <tr>\n",
       "      <th>4</th>\n",
       "      <td>editor</td>\n",
       "    </tr>\n",
       "  </tbody>\n",
       "</table>\n",
       "</div>"
      ],
      "text/plain": [
       "   category\n",
       "0     actor\n",
       "1   actress\n",
       "2    writer\n",
       "3  composer\n",
       "4    editor"
      ]
     },
     "execution_count": 61,
     "metadata": {},
     "output_type": "execute_result"
    }
   ],
   "source": [
    "query_q1 = \"\"\"\n",
    "SELECT DISTINCT category\n",
    "FROM Role\n",
    "\n",
    "\"\"\"\n",
    "\n",
    "\n",
    "res_q1 = pd.read_sql(query_q1, engine)\n",
    "res_q1.head()"
   ]
  },
  {
   "cell_type": "code",
   "execution_count": 62,
   "id": "276a509f",
   "metadata": {
    "deletable": false,
    "editable": false
   },
   "outputs": [
    {
     "data": {
      "text/html": [
       "<p><strong><pre style='display: inline;'>q1</pre></strong> passed!</p>"
      ],
      "text/plain": [
       "q1 results: All test cases passed!"
      ]
     },
     "execution_count": 62,
     "metadata": {},
     "output_type": "execute_result"
    }
   ],
   "source": [
    "grader.check(\"q1\")"
   ]
  },
  {
   "cell_type": "markdown",
   "id": "b30af9ce",
   "metadata": {
    "deletable": false,
    "editable": false
   },
   "source": [
    "## Question 2: Compute number of film releases, annually.\n",
    "\n",
    "Details: Sort from newest to oldest, and ignore titles with `NULL` years.\n",
    "\n",
    "<br/>\n",
    "\n",
    "<details>\n",
    "    <summary>▶ [Click to Expand] <b>Hints</b></summary>\n",
    "\n",
    "- Tests: grouping, aggregation, handling NULL\n",
    "- Our solution is 7 lines.\n",
    "    \n",
    "- **Approach**: You need to (#1) filter out `NULL` years, (#2) group by year and (#3) count within each group.\n",
    "        \n",
    "- **Hint #1**: For filtering out `NULL` values, see lecture 9.5 @ 2:20 https://youtu.be/LEMkOxv599U?t=140\n",
    "    \n",
    "- **Hint #2**: For using `GROUP BY`, see lecture 8.6 @ 2:46 https://youtu.be/WsyA75ppEAU?t=166\n",
    "    \n",
    "- **Hint Data**: Per the IMDB Dataset description, use the column `startYear` to determine when a film was released.\n",
    "    \n",
    "- **Hint**: For changing `ORDER BY` direction, consider `DESC` (descending) and `ASC` (ascending).\n",
    "</details>\n",
    "\n",
    "Output the year `year` and the number of films per year `total`. The first 3 lines of the table should look like the following (but you should compute the first 10 rows).\n",
    "<table border=\"1\" class=\"dataframe\">\n",
    "  <thead>\n",
    "    <tr style=\"text-align: right;\">\n",
    "      <th>year</th>\n",
    "      <th>total</th>\n",
    "    </tr>\n",
    "  </thead>\n",
    "  <tbody>\n",
    "    <tr>\n",
    "      <td>2021</td>\n",
    "      <td>128</td>\n",
    "    </tr>\n",
    "    <tr>\n",
    "      <td>2020</td>\n",
    "      <td>181</td>\n",
    "    </tr>\n",
    "    <tr>\n",
    "      <td>2019</td>\n",
    "      <td>278</td>\n",
    "    </tr>\n",
    "  </tbody>\n",
    "</table>\n",
    "\n",
    "<!--\n",
    "BEGIN QUESTION\n",
    "name: q2\n",
    "points: 2\n",
    "-->"
   ]
  },
  {
   "cell_type": "code",
   "execution_count": 63,
   "id": "39947998",
   "metadata": {},
   "outputs": [
    {
     "data": {
      "text/html": [
       "<div>\n",
       "<style scoped>\n",
       "    .dataframe tbody tr th:only-of-type {\n",
       "        vertical-align: middle;\n",
       "    }\n",
       "\n",
       "    .dataframe tbody tr th {\n",
       "        vertical-align: top;\n",
       "    }\n",
       "\n",
       "    .dataframe thead th {\n",
       "        text-align: right;\n",
       "    }\n",
       "</style>\n",
       "<table border=\"1\" class=\"dataframe\">\n",
       "  <thead>\n",
       "    <tr style=\"text-align: right;\">\n",
       "      <th></th>\n",
       "      <th>startYear</th>\n",
       "      <th>total</th>\n",
       "    </tr>\n",
       "  </thead>\n",
       "  <tbody>\n",
       "    <tr>\n",
       "      <th>0</th>\n",
       "      <td>2021</td>\n",
       "      <td>128</td>\n",
       "    </tr>\n",
       "    <tr>\n",
       "      <th>1</th>\n",
       "      <td>2020</td>\n",
       "      <td>181</td>\n",
       "    </tr>\n",
       "    <tr>\n",
       "      <th>2</th>\n",
       "      <td>2019</td>\n",
       "      <td>278</td>\n",
       "    </tr>\n",
       "    <tr>\n",
       "      <th>3</th>\n",
       "      <td>2018</td>\n",
       "      <td>282</td>\n",
       "    </tr>\n",
       "    <tr>\n",
       "      <th>4</th>\n",
       "      <td>2017</td>\n",
       "      <td>284</td>\n",
       "    </tr>\n",
       "  </tbody>\n",
       "</table>\n",
       "</div>"
      ],
      "text/plain": [
       "  startYear  total\n",
       "0      2021    128\n",
       "1      2020    181\n",
       "2      2019    278\n",
       "3      2018    282\n",
       "4      2017    284"
      ]
     },
     "execution_count": 63,
     "metadata": {},
     "output_type": "execute_result"
    }
   ],
   "source": [
    "query_q2 = \"\"\"\n",
    "SELECT startYear, COUNT(*) as total\n",
    "FROM Title\n",
    "WHERE startYear IS NOT NULL\n",
    "GROUP BY startYear\n",
    "ORDER BY startYear DESC\n",
    "LIMIT 10\n",
    "\"\"\"\n",
    "\n",
    "\n",
    "res_q2 = pd.read_sql(query_q2, engine)\n",
    "res_q2.head()"
   ]
  },
  {
   "cell_type": "code",
   "execution_count": 64,
   "id": "9fc61e3f",
   "metadata": {
    "deletable": false,
    "editable": false
   },
   "outputs": [
    {
     "data": {
      "text/html": [
       "<p><strong><pre style='display: inline;'>q2</pre></strong> passed!</p>"
      ],
      "text/plain": [
       "q2 results: All test cases passed!"
      ]
     },
     "execution_count": 64,
     "metadata": {},
     "output_type": "execute_result"
    }
   ],
   "source": [
    "grader.check(\"q2\")"
   ]
  },
  {
   "cell_type": "markdown",
   "id": "6c6d7877",
   "metadata": {
    "deletable": false,
    "editable": false
   },
   "source": [
    "## Question 3: Report number of \"Big-Hit\" and \"Not-Big-Hit\" films.\n",
    "\n",
    "Details: A \"big hit\" is a film with over 100,000 votes.\n",
    "\n",
    "<br/>\n",
    "\n",
    "<details>\n",
    "    <summary>▶ [Click to Expand] <b>Hints</b></summary>\n",
    "\n",
    "- Tests: Case, one-to-many Join\n",
    "- Our solution is 10 lines.\n",
    "    \n",
    "- **Approach**: You need to (1) link films to ratings, (2) compute whether or not a film is a \"hit\", according to its ratings, and (3) group by and aggregate within hits and not hits.\n",
    "    \n",
    "- **Hint Data**: Use `Rating.numVotes` for number of votes.\n",
    "- **Hint #1**: Use `JOIN`. See 9.4 @ 3:23 for an example https://youtu.be/FAYKJT1TFUA?t=199\n",
    "- **Hint #2**: Use `CASE`. See 9.7 @ 0:40 for a brief overview https://youtu.be/6vkZUwkoAwM?t=40\n",
    "- Review #3: For using `GROUP BY`, see lecture 8.6 @ 2:46 https://youtu.be/WsyA75ppEAU?t=166\n",
    "   \n",
    "</details>\n",
    "\n",
    "Output whether or not the film is a hit `isBigHit` and number of films in that category `total`. Your output should match the following, exactly:\n",
    "\n",
    "|isBigHit|total|\n",
    "|---|---|\n",
    "|no|5341|\n",
    "|yes|2233|\n",
    "\n",
    "<!--\n",
    "BEGIN QUESTION\n",
    "name: q3\n",
    "points: 3\n",
    "-->"
   ]
  },
  {
   "cell_type": "code",
   "execution_count": 65,
   "id": "5b865304",
   "metadata": {},
   "outputs": [
    {
     "data": {
      "text/html": [
       "<div>\n",
       "<style scoped>\n",
       "    .dataframe tbody tr th:only-of-type {\n",
       "        vertical-align: middle;\n",
       "    }\n",
       "\n",
       "    .dataframe tbody tr th {\n",
       "        vertical-align: top;\n",
       "    }\n",
       "\n",
       "    .dataframe thead th {\n",
       "        text-align: right;\n",
       "    }\n",
       "</style>\n",
       "<table border=\"1\" class=\"dataframe\">\n",
       "  <thead>\n",
       "    <tr style=\"text-align: right;\">\n",
       "      <th></th>\n",
       "      <th>isBigHit</th>\n",
       "      <th>total</th>\n",
       "    </tr>\n",
       "  </thead>\n",
       "  <tbody>\n",
       "    <tr>\n",
       "      <th>0</th>\n",
       "      <td>no</td>\n",
       "      <td>5341</td>\n",
       "    </tr>\n",
       "    <tr>\n",
       "      <th>1</th>\n",
       "      <td>yes</td>\n",
       "      <td>2233</td>\n",
       "    </tr>\n",
       "  </tbody>\n",
       "</table>\n",
       "</div>"
      ],
      "text/plain": [
       "  isBigHit  total\n",
       "0       no   5341\n",
       "1      yes   2233"
      ]
     },
     "execution_count": 65,
     "metadata": {},
     "output_type": "execute_result"
    }
   ],
   "source": [
    "\n",
    "query_q3 = \"\"\"\n",
    "SELECT \n",
    "CASE \n",
    "    WHEN CAST(numVotes as int) > 100000 THEN 'yes'\n",
    "    ELSE 'no'\n",
    "END AS 'isBigHit',\n",
    "COUNT(*) AS total\n",
    "FROM Rating\n",
    "JOIN Title ON Rating.tconst = Title.tconst\n",
    "GROUP BY isBigHit\n",
    "\n",
    "\n",
    "\n",
    "\"\"\"\n",
    "\n",
    "\n",
    "res_q3 = pd.read_sql(query_q3, engine)\n",
    "res_q3"
   ]
  },
  {
   "cell_type": "code",
   "execution_count": 66,
   "id": "5b0bee0a",
   "metadata": {
    "deletable": false,
    "editable": false
   },
   "outputs": [
    {
     "data": {
      "text/html": [
       "<p><strong><pre style='display: inline;'>q3</pre></strong> passed!</p>"
      ],
      "text/plain": [
       "q3 results: All test cases passed!"
      ]
     },
     "execution_count": 66,
     "metadata": {},
     "output_type": "execute_result"
    }
   ],
   "source": [
    "grader.check(\"q3\")"
   ]
  },
  {
   "cell_type": "markdown",
   "id": "432c92a6",
   "metadata": {
    "deletable": false,
    "editable": false
   },
   "source": [
    "## Question 4: Compute average rating across films, per year.\n",
    "\n",
    "**Warning**: `Rating` provides average rating *per film*, but we need average rating *across votes* per year. See hints for details.\n",
    "\n",
    "<br/>\n",
    "\n",
    "<details>\n",
    "    <summary>▶ [Click to Expand] <b>Hints</b></summary>\n",
    "    \n",
    "    \n",
    "- Tests: SQL aggregates + arithmetic\n",
    "- Our solution is 7 lines\n",
    "    \n",
    "- **Approach**: You'll need to (1) link titles with ratings, (2) group by and aggregate within each title's release year, according to the formula above.\n",
    "    \n",
    "\n",
    "- **Hint Data**: Use `Title.startYear` for film release year.\n",
    "- **Hint Data**: You shouldn't use the `AVG(...)` aggregate, because the `Rating` table contains *average ratings per film* and the number of votes. We want the *average across all votes*, for a year of films, which we can compute using: `sumRatingsPerYear / numVotesInYear = sum(averageFilmRating * numFilmVotes) / sum(numFilmVotes)` (the sums are across all films in a single year).\n",
    "    \n",
    "- Review #1: Use a `JOIN`. See 9.4 @ 3:23 for an example https://youtu.be/FAYKJT1TFUA?t=199\n",
    "- Review #2: For using `GROUP BY`, see lecture 8.6 @ 2:46 https://youtu.be/WsyA75ppEAU?t=166. \n",
    "</details>\n",
    "\n",
    "Output the year `year` and average rating `rating`, ordered by `year` with the most recent year at the top. The first 3 lines of your output should look like the following (but you should compute the first 10 rows):\n",
    "\n",
    "|year|rating|\n",
    "|---|---|\n",
    "|2021|7.036896|\n",
    "|2020|7.004193|\n",
    "|2019|7.333072|\n",
    "\n",
    "<!--\n",
    "BEGIN QUESTION\n",
    "name: q4\n",
    "points: 3\n",
    "-->"
   ]
  },
  {
   "cell_type": "code",
   "execution_count": 67,
   "id": "fe283ca6",
   "metadata": {},
   "outputs": [
    {
     "data": {
      "text/html": [
       "<div>\n",
       "<style scoped>\n",
       "    .dataframe tbody tr th:only-of-type {\n",
       "        vertical-align: middle;\n",
       "    }\n",
       "\n",
       "    .dataframe tbody tr th {\n",
       "        vertical-align: top;\n",
       "    }\n",
       "\n",
       "    .dataframe thead th {\n",
       "        text-align: right;\n",
       "    }\n",
       "</style>\n",
       "<table border=\"1\" class=\"dataframe\">\n",
       "  <thead>\n",
       "    <tr style=\"text-align: right;\">\n",
       "      <th></th>\n",
       "      <th>year</th>\n",
       "      <th>rating</th>\n",
       "    </tr>\n",
       "  </thead>\n",
       "  <tbody>\n",
       "    <tr>\n",
       "      <th>0</th>\n",
       "      <td>2021</td>\n",
       "      <td>7.036896</td>\n",
       "    </tr>\n",
       "    <tr>\n",
       "      <th>1</th>\n",
       "      <td>2020</td>\n",
       "      <td>7.004193</td>\n",
       "    </tr>\n",
       "    <tr>\n",
       "      <th>2</th>\n",
       "      <td>2019</td>\n",
       "      <td>7.333072</td>\n",
       "    </tr>\n",
       "    <tr>\n",
       "      <th>3</th>\n",
       "      <td>2018</td>\n",
       "      <td>7.083549</td>\n",
       "    </tr>\n",
       "    <tr>\n",
       "      <th>4</th>\n",
       "      <td>2017</td>\n",
       "      <td>7.196795</td>\n",
       "    </tr>\n",
       "  </tbody>\n",
       "</table>\n",
       "</div>"
      ],
      "text/plain": [
       "   year    rating\n",
       "0  2021  7.036896\n",
       "1  2020  7.004193\n",
       "2  2019  7.333072\n",
       "3  2018  7.083549\n",
       "4  2017  7.196795"
      ]
     },
     "execution_count": 67,
     "metadata": {},
     "output_type": "execute_result"
    }
   ],
   "source": [
    "\n",
    "query_q4 = \"\"\"\n",
    "SELECT Title.startYear AS year, sum(Rating.averageRating * Rating.numVotes) / sum(Rating.numVotes) as rating\n",
    "FROM Title\n",
    "JOIN Rating on Title.tconst = Rating.tconst\n",
    "GROUP BY startYear\n",
    "ORDER BY startYear desc\n",
    "LIMIT 10\n",
    "\"\"\"\n",
    "\n",
    "\n",
    "res_q4 = pd.read_sql(query_q4, engine)\n",
    "res_q4.head()"
   ]
  },
  {
   "cell_type": "code",
   "execution_count": 68,
   "id": "794651ea",
   "metadata": {
    "deletable": false,
    "editable": false
   },
   "outputs": [
    {
     "data": {
      "text/html": [
       "<p><strong><pre style='display: inline;'>q4</pre></strong> passed!</p>"
      ],
      "text/plain": [
       "q4 results: All test cases passed!"
      ]
     },
     "execution_count": 68,
     "metadata": {},
     "output_type": "execute_result"
    }
   ],
   "source": [
    "grader.check(\"q4\")"
   ]
  },
  {
   "cell_type": "markdown",
   "id": "c138982d",
   "metadata": {
    "deletable": false,
    "editable": false
   },
   "source": [
    "## Question 5: Find people with the most ratings.\n",
    "\n",
    "Details: Sort from highest to lowest.\n",
    "\n",
    "<br/>\n",
    "\n",
    "<details>\n",
    "    <summary>▶ [Click to Expand] <b>Hints</b></summary>\n",
    "    \n",
    "- Tests: many-to-many join\n",
    "- Our solution is 13 lines, excluding the `VIEW` scaffolding.\n",
    "- **Approach**: You'll need to (1) link name to ratings, (2) group all ratings per person, and (3) compute total number of votes.\n",
    "- **Hint #1**: Use multiple `JOIN`s. Here is an example with multiple JOINs (but you may want to watch the entire lesson from the start) 9.7 @ 5:32 https://youtu.be/6vkZUwkoAwM?t=332\n",
    "- Review #2: For using GROUP BY, see lecture 8.6 @ 2:46 https://youtu.be/WsyA75ppEAU?t=166.\n",
    "</details>\n",
    "\n",
    "Output the person's `name`, average rating `rating`, and number of votes cast `numVotes`. The first 3 lines of your output should look like the following:\n",
    "\n",
    "|nconst|name|numVotes|\n",
    "|---|---|---|\n",
    "|2369|John Williams|16574610|\n",
    "|93|Brad Pitt|16007625|\n",
    "|138|Leonardo DiCaprio|14757121|\n",
    "\n",
    "<!--\n",
    "BEGIN QUESTION\n",
    "name: q5\n",
    "points: 2\n",
    "-->"
   ]
  },
  {
   "cell_type": "code",
   "execution_count": 69,
   "id": "51454cd2",
   "metadata": {},
   "outputs": [
    {
     "data": {
      "text/html": [
       "<div>\n",
       "<style scoped>\n",
       "    .dataframe tbody tr th:only-of-type {\n",
       "        vertical-align: middle;\n",
       "    }\n",
       "\n",
       "    .dataframe tbody tr th {\n",
       "        vertical-align: top;\n",
       "    }\n",
       "\n",
       "    .dataframe thead th {\n",
       "        text-align: right;\n",
       "    }\n",
       "</style>\n",
       "<table border=\"1\" class=\"dataframe\">\n",
       "  <thead>\n",
       "    <tr style=\"text-align: right;\">\n",
       "      <th></th>\n",
       "      <th>nconst</th>\n",
       "      <th>name</th>\n",
       "      <th>numVotes</th>\n",
       "    </tr>\n",
       "  </thead>\n",
       "  <tbody>\n",
       "    <tr>\n",
       "      <th>0</th>\n",
       "      <td>2369</td>\n",
       "      <td>John Williams</td>\n",
       "      <td>16574610</td>\n",
       "    </tr>\n",
       "    <tr>\n",
       "      <th>1</th>\n",
       "      <td>93</td>\n",
       "      <td>Brad Pitt</td>\n",
       "      <td>16007625</td>\n",
       "    </tr>\n",
       "    <tr>\n",
       "      <th>2</th>\n",
       "      <td>138</td>\n",
       "      <td>Leonardo DiCaprio</td>\n",
       "      <td>14757121</td>\n",
       "    </tr>\n",
       "    <tr>\n",
       "      <th>3</th>\n",
       "      <td>158</td>\n",
       "      <td>Tom Hanks</td>\n",
       "      <td>14703255</td>\n",
       "    </tr>\n",
       "    <tr>\n",
       "      <th>4</th>\n",
       "      <td>498278</td>\n",
       "      <td>Stan Lee</td>\n",
       "      <td>13906803</td>\n",
       "    </tr>\n",
       "    <tr>\n",
       "      <th>5</th>\n",
       "      <td>634240</td>\n",
       "      <td>Christopher Nolan</td>\n",
       "      <td>13728818</td>\n",
       "    </tr>\n",
       "    <tr>\n",
       "      <th>6</th>\n",
       "      <td>229</td>\n",
       "      <td>Steven Spielberg</td>\n",
       "      <td>13610887</td>\n",
       "    </tr>\n",
       "    <tr>\n",
       "      <th>7</th>\n",
       "      <td>134</td>\n",
       "      <td>Robert De Niro</td>\n",
       "      <td>13415268</td>\n",
       "    </tr>\n",
       "    <tr>\n",
       "      <th>8</th>\n",
       "      <td>168</td>\n",
       "      <td>Samuel L. Jackson</td>\n",
       "      <td>11997152</td>\n",
       "    </tr>\n",
       "    <tr>\n",
       "      <th>9</th>\n",
       "      <td>288</td>\n",
       "      <td>Christian Bale</td>\n",
       "      <td>11892101</td>\n",
       "    </tr>\n",
       "  </tbody>\n",
       "</table>\n",
       "</div>"
      ],
      "text/plain": [
       "   nconst               name  numVotes\n",
       "0    2369      John Williams  16574610\n",
       "1      93          Brad Pitt  16007625\n",
       "2     138  Leonardo DiCaprio  14757121\n",
       "3     158          Tom Hanks  14703255\n",
       "4  498278           Stan Lee  13906803\n",
       "5  634240  Christopher Nolan  13728818\n",
       "6     229   Steven Spielberg  13610887\n",
       "7     134     Robert De Niro  13415268\n",
       "8     168  Samuel L. Jackson  11997152\n",
       "9     288     Christian Bale  11892101"
      ]
     },
     "execution_count": 69,
     "metadata": {},
     "output_type": "execute_result"
    }
   ],
   "source": [
    "query_q5 = \"\"\"\n",
    "CREATE VIEW PeopleRating AS\n",
    "    SELECT Name.nconst, Name.primaryName AS name, sum(Rating.numVotes) AS numVotes\n",
    "    FROM Name\n",
    "    JOIN Role \n",
    "        ON Name.nconst = Role.nconst\n",
    "    JOIN Rating\n",
    "         ON Role.tconst = Rating.tconst\n",
    "    GROUP BY primaryName\n",
    "    ORDER BY numVotes desc\n",
    "\"\"\"\n",
    "\n",
    "\n",
    "#writing PeopleRating to db\n",
    "engine.execute(\"DROP VIEW IF EXISTS PeopleRating\")\n",
    "engine.execute(query_q5)\n",
    "\n",
    "res_q5 = pd.read_sql(\"SELECT * FROM PeopleRating LIMIT 10\", engine)\n",
    "res_q5\n"
   ]
  },
  {
   "cell_type": "code",
   "execution_count": 70,
   "id": "5c7f53ec",
   "metadata": {
    "deletable": false,
    "editable": false
   },
   "outputs": [
    {
     "data": {
      "text/html": [
       "<p><strong><pre style='display: inline;'>q5</pre></strong> passed!</p>"
      ],
      "text/plain": [
       "q5 results: All test cases passed!"
      ]
     },
     "execution_count": 70,
     "metadata": {},
     "output_type": "execute_result"
    }
   ],
   "source": [
    "grader.check(\"q5\")"
   ]
  },
  {
   "cell_type": "markdown",
   "id": "5e12c3a4",
   "metadata": {},
   "source": [
    "\n",
    "## Question 6: Compute number of A/B/C-list people per film.\n",
    "\n",
    "Details: A-list people have 1,000,000+ votes. B-list have 500,000 - 999,999 votes. C-list have 100,000 - 499,999. Return top 10 films, ranked by number of A-list actors/actresses.\n",
    "\n",
    "Before looking below, take a moment to consider how you would do this problem. Would you use a `CASE`? (Why can't you?)"
   ]
  },
  {
   "cell_type": "markdown",
   "id": "46a50a27",
   "metadata": {
    "deletable": false,
    "editable": false
   },
   "source": [
    "### Question 6a: Compute \"X-List\" classification per person.\n",
    "\n",
    "<br/>\n",
    "\n",
    "<details>\n",
    "    <summary>▶ [Click to Expand] <b>Hints</b></summary>\n",
    "    \n",
    "- Tests: `AND` for predicates\n",
    "- The solution is 7 lines.\n",
    "</details>\n",
    "\n",
    "Using `PeopleRating` from Question 5, compute booleans `isAList`, `isBList`, and `isCList` for each person. Additionally output `PeopleRating.nconst`. The first 3 lines of your output should look like the following (but when using this query for Question 6, compute the full table).\n",
    "\n",
    "|isAList|isBList|isCList|nconst|\n",
    "|---|---|---|---|\n",
    "|1|0|0|2369|\n",
    "|1|0|0|93|\n",
    "|1|0|0|138|\n",
    "\n",
    "<!--\n",
    "BEGIN QUESTION\n",
    "name: q6a\n",
    "points: 2\n",
    "-->"
   ]
  },
  {
   "cell_type": "code",
   "execution_count": 71,
   "id": "9c06f4ac",
   "metadata": {},
   "outputs": [
    {
     "data": {
      "text/html": [
       "<div>\n",
       "<style scoped>\n",
       "    .dataframe tbody tr th:only-of-type {\n",
       "        vertical-align: middle;\n",
       "    }\n",
       "\n",
       "    .dataframe tbody tr th {\n",
       "        vertical-align: top;\n",
       "    }\n",
       "\n",
       "    .dataframe thead th {\n",
       "        text-align: right;\n",
       "    }\n",
       "</style>\n",
       "<table border=\"1\" class=\"dataframe\">\n",
       "  <thead>\n",
       "    <tr style=\"text-align: right;\">\n",
       "      <th></th>\n",
       "      <th>isAList</th>\n",
       "      <th>isBList</th>\n",
       "      <th>isCList</th>\n",
       "      <th>nconst</th>\n",
       "    </tr>\n",
       "  </thead>\n",
       "  <tbody>\n",
       "    <tr>\n",
       "      <th>0</th>\n",
       "      <td>1</td>\n",
       "      <td>0</td>\n",
       "      <td>0</td>\n",
       "      <td>2369</td>\n",
       "    </tr>\n",
       "    <tr>\n",
       "      <th>1</th>\n",
       "      <td>1</td>\n",
       "      <td>0</td>\n",
       "      <td>0</td>\n",
       "      <td>93</td>\n",
       "    </tr>\n",
       "    <tr>\n",
       "      <th>2</th>\n",
       "      <td>1</td>\n",
       "      <td>0</td>\n",
       "      <td>0</td>\n",
       "      <td>138</td>\n",
       "    </tr>\n",
       "    <tr>\n",
       "      <th>3</th>\n",
       "      <td>1</td>\n",
       "      <td>0</td>\n",
       "      <td>0</td>\n",
       "      <td>158</td>\n",
       "    </tr>\n",
       "    <tr>\n",
       "      <th>4</th>\n",
       "      <td>1</td>\n",
       "      <td>0</td>\n",
       "      <td>0</td>\n",
       "      <td>498278</td>\n",
       "    </tr>\n",
       "    <tr>\n",
       "      <th>5</th>\n",
       "      <td>1</td>\n",
       "      <td>0</td>\n",
       "      <td>0</td>\n",
       "      <td>634240</td>\n",
       "    </tr>\n",
       "    <tr>\n",
       "      <th>6</th>\n",
       "      <td>1</td>\n",
       "      <td>0</td>\n",
       "      <td>0</td>\n",
       "      <td>229</td>\n",
       "    </tr>\n",
       "    <tr>\n",
       "      <th>7</th>\n",
       "      <td>1</td>\n",
       "      <td>0</td>\n",
       "      <td>0</td>\n",
       "      <td>134</td>\n",
       "    </tr>\n",
       "    <tr>\n",
       "      <th>8</th>\n",
       "      <td>1</td>\n",
       "      <td>0</td>\n",
       "      <td>0</td>\n",
       "      <td>168</td>\n",
       "    </tr>\n",
       "    <tr>\n",
       "      <th>9</th>\n",
       "      <td>1</td>\n",
       "      <td>0</td>\n",
       "      <td>0</td>\n",
       "      <td>288</td>\n",
       "    </tr>\n",
       "  </tbody>\n",
       "</table>\n",
       "</div>"
      ],
      "text/plain": [
       "   isAList  isBList  isCList  nconst\n",
       "0        1        0        0    2369\n",
       "1        1        0        0      93\n",
       "2        1        0        0     138\n",
       "3        1        0        0     158\n",
       "4        1        0        0  498278\n",
       "5        1        0        0  634240\n",
       "6        1        0        0     229\n",
       "7        1        0        0     134\n",
       "8        1        0        0     168\n",
       "9        1        0        0     288"
      ]
     },
     "execution_count": 71,
     "metadata": {},
     "output_type": "execute_result"
    }
   ],
   "source": [
    "\n",
    "query_q6a = \"\"\"\n",
    "CREATE VIEW PeopleABC AS\n",
    "    SELECT \n",
    "    CASE\n",
    "        WHEN numVotes >= 1000000 THEN 1\n",
    "        ELSE 0\n",
    "    END AS 'isAList',\n",
    "    CASE\n",
    "        WHEN numVotes <= 999999 AND numVotes >= 500000 THEN 1\n",
    "        ELSE 0\n",
    "    END AS 'isBList',    \n",
    "    CASE\n",
    "        WHEN numVotes <= 499999 AND numVotes >= 100000 THEN 1\n",
    "        ELSE 0\n",
    "    END AS 'isCList',  \n",
    "    nconst \n",
    "    FROM PeopleRating\n",
    "    \n",
    "\"\"\"\n",
    "\n",
    "    \n",
    "#writing PeopleABC to db\n",
    "engine.execute(\"DROP VIEW IF EXISTS PeopleABC\")\n",
    "engine.execute(query_q6a)\n",
    "\n",
    "res_q6a = pd.read_sql(\"SELECT * FROM PeopleABC LIMIT 10\", engine)\n",
    "res_q6a"
   ]
  },
  {
   "cell_type": "code",
   "execution_count": 72,
   "id": "bdedb399",
   "metadata": {
    "deletable": false,
    "editable": false
   },
   "outputs": [
    {
     "data": {
      "text/html": [
       "<p><strong><pre style='display: inline;'>q6a</pre></strong> passed!</p>"
      ],
      "text/plain": [
       "q6a results: All test cases passed!"
      ]
     },
     "execution_count": 72,
     "metadata": {},
     "output_type": "execute_result"
    }
   ],
   "source": [
    "grader.check(\"q6a\")"
   ]
  },
  {
   "cell_type": "markdown",
   "id": "b5cf964d",
   "metadata": {
    "deletable": false,
    "editable": false
   },
   "source": [
    "### Question 6b: Count up \"X-List\" people per film\n",
    "\n",
    "<br/>\n",
    "\n",
    "<details>\n",
    "    <summary>▶ [Click to Expand] <b>Hints</b></summary>\n",
    "    \n",
    "- Tests: When NOT to use case\n",
    "    \n",
    "- **Approach**: You need to: (1) Use a subquery, common table expression, or view to compute a boolean column for each \"rank\" -- `isAList`, `isBList` and `isCList` for every person; (2) link people ranks with titles; (3) group by and sum within each movie.\n",
    "    \n",
    "- **Hint #1**: Try Question 6a if this is confusing.\n",
    "- Reivew #2: Use multiple JOINs. Here is an example with multiple JOINs (but you may want to watch the entire lesson from the start) 9.7 @ 5:32 https://youtu.be/6vkZUwkoAwM?t=332\n",
    "- Review #3: For using GROUP BY, see lecture 8.6 @ 2:46 https://youtu.be/WsyA75ppEAU?t=166.\n",
    "</details>\n",
    "\n",
    "Output the number of A-list `numAList`, B-list `numBList`, and C-list `numCList` people, along with the film title. The first 3 lines of your output should look like the following (but you should compute the first 10 rows):\n",
    "\n",
    "|numAList|\tnumBList|\tnumCList|\tprimaryTitle|\n",
    "|---|---|---|---|\n",
    "|10|\t0|\t0|\tThe Godfather |\n",
    "|10|\t0|\t0|\tThe Godfather: Part II |\n",
    "|10|\t0|\t0|\tStar Wars: Episode V - The Empire Strikes Back |\n",
    "\n",
    "<!--\n",
    "BEGIN QUESTION\n",
    "name: q6b\n",
    "points: 3\n",
    "-->"
   ]
  },
  {
   "cell_type": "code",
   "execution_count": 73,
   "id": "8083d04f",
   "metadata": {
    "scrolled": true,
    "tags": []
   },
   "outputs": [
    {
     "data": {
      "text/html": [
       "<div>\n",
       "<style scoped>\n",
       "    .dataframe tbody tr th:only-of-type {\n",
       "        vertical-align: middle;\n",
       "    }\n",
       "\n",
       "    .dataframe tbody tr th {\n",
       "        vertical-align: top;\n",
       "    }\n",
       "\n",
       "    .dataframe thead th {\n",
       "        text-align: right;\n",
       "    }\n",
       "</style>\n",
       "<table border=\"1\" class=\"dataframe\">\n",
       "  <thead>\n",
       "    <tr style=\"text-align: right;\">\n",
       "      <th></th>\n",
       "      <th>numAList</th>\n",
       "      <th>numBList</th>\n",
       "      <th>numCList</th>\n",
       "      <th>primaryTitle</th>\n",
       "    </tr>\n",
       "  </thead>\n",
       "  <tbody>\n",
       "    <tr>\n",
       "      <th>0</th>\n",
       "      <td>10</td>\n",
       "      <td>0</td>\n",
       "      <td>0</td>\n",
       "      <td>The Godfather</td>\n",
       "    </tr>\n",
       "    <tr>\n",
       "      <th>1</th>\n",
       "      <td>10</td>\n",
       "      <td>0</td>\n",
       "      <td>0</td>\n",
       "      <td>The Godfather: Part II</td>\n",
       "    </tr>\n",
       "    <tr>\n",
       "      <th>2</th>\n",
       "      <td>10</td>\n",
       "      <td>0</td>\n",
       "      <td>0</td>\n",
       "      <td>Star Wars: Episode V - The Empire Strikes Back</td>\n",
       "    </tr>\n",
       "    <tr>\n",
       "      <th>3</th>\n",
       "      <td>10</td>\n",
       "      <td>0</td>\n",
       "      <td>0</td>\n",
       "      <td>Back to the Future</td>\n",
       "    </tr>\n",
       "    <tr>\n",
       "      <th>4</th>\n",
       "      <td>10</td>\n",
       "      <td>0</td>\n",
       "      <td>0</td>\n",
       "      <td>Die Hard</td>\n",
       "    </tr>\n",
       "    <tr>\n",
       "      <th>5</th>\n",
       "      <td>10</td>\n",
       "      <td>0</td>\n",
       "      <td>0</td>\n",
       "      <td>Goodfellas</td>\n",
       "    </tr>\n",
       "    <tr>\n",
       "      <th>6</th>\n",
       "      <td>10</td>\n",
       "      <td>0</td>\n",
       "      <td>0</td>\n",
       "      <td>The Silence of the Lambs</td>\n",
       "    </tr>\n",
       "    <tr>\n",
       "      <th>7</th>\n",
       "      <td>10</td>\n",
       "      <td>0</td>\n",
       "      <td>0</td>\n",
       "      <td>Terminator 2: Judgment Day</td>\n",
       "    </tr>\n",
       "    <tr>\n",
       "      <th>8</th>\n",
       "      <td>10</td>\n",
       "      <td>0</td>\n",
       "      <td>0</td>\n",
       "      <td>A Few Good Men</td>\n",
       "    </tr>\n",
       "    <tr>\n",
       "      <th>9</th>\n",
       "      <td>10</td>\n",
       "      <td>0</td>\n",
       "      <td>0</td>\n",
       "      <td>Forrest Gump</td>\n",
       "    </tr>\n",
       "  </tbody>\n",
       "</table>\n",
       "</div>"
      ],
      "text/plain": [
       "   numAList  numBList  numCList  \\\n",
       "0        10         0         0   \n",
       "1        10         0         0   \n",
       "2        10         0         0   \n",
       "3        10         0         0   \n",
       "4        10         0         0   \n",
       "5        10         0         0   \n",
       "6        10         0         0   \n",
       "7        10         0         0   \n",
       "8        10         0         0   \n",
       "9        10         0         0   \n",
       "\n",
       "                                     primaryTitle  \n",
       "0                                   The Godfather  \n",
       "1                          The Godfather: Part II  \n",
       "2  Star Wars: Episode V - The Empire Strikes Back  \n",
       "3                              Back to the Future  \n",
       "4                                        Die Hard  \n",
       "5                                      Goodfellas  \n",
       "6                        The Silence of the Lambs  \n",
       "7                      Terminator 2: Judgment Day  \n",
       "8                                  A Few Good Men  \n",
       "9                                    Forrest Gump  "
      ]
     },
     "execution_count": 73,
     "metadata": {},
     "output_type": "execute_result"
    }
   ],
   "source": [
    "query_q6b = \"\"\"\n",
    "SELECT sum(PeopleABC.isAlist) AS numAList, sum(PeopleABC.isBlist) AS numBList, sum(PeopleABC.isClist) AS numCList, Title.primaryTitle\n",
    "FROM PeopleABC\n",
    "JOIN Role\n",
    "ON PeopleABC.nconst = Role.nconst\n",
    "JOIN Title\n",
    "ON Role.tconst = Title.tconst\n",
    "GROUP BY Title.tconst\n",
    "ORDER BY numAList desc\n",
    "LIMIT 10\n",
    "\"\"\"\n",
    "\n",
    "\n",
    "res_q6b = pd.read_sql(query_q6b, engine)\n",
    "res_q6b"
   ]
  },
  {
   "cell_type": "code",
   "execution_count": 74,
   "id": "3985defa",
   "metadata": {
    "deletable": false,
    "editable": false
   },
   "outputs": [
    {
     "data": {
      "text/html": [
       "<p><strong><pre style='display: inline;'>q6b</pre></strong> passed!</p>"
      ],
      "text/plain": [
       "q6b results: All test cases passed!"
      ]
     },
     "execution_count": 74,
     "metadata": {},
     "output_type": "execute_result"
    }
   ],
   "source": [
    "grader.check(\"q6b\")"
   ]
  },
  {
   "cell_type": "markdown",
   "id": "dcc5a567",
   "metadata": {},
   "source": [
    "## Question 7: Find pairs of people that have 50+ collaborations.\n",
    "\n",
    "Before looking below, take a moment to consider how you would do this problem. Can you do this without subqueries or common table expressions? Why not?"
   ]
  },
  {
   "cell_type": "markdown",
   "id": "7f32198b",
   "metadata": {
    "deletable": false,
    "editable": false
   },
   "source": [
    "### Question 7a: For each movie, list all pairs of collaborators.\n",
    "\n",
    "**Warning**: Make sure not to double-count pairs or to match any person with themselves as a \"pair\". See hints for details.\n",
    "\n",
    "<br/>\n",
    "\n",
    "<details>\n",
    "    <summary>▶ [Click to Expand] <b>Hints</b></summary>\n",
    "\n",
    "- Testing: self-joins with pairs\n",
    "\n",
    "- Our solution has 8 lines excluding the `VIEW` scaffolding.\n",
    "    \n",
    "- **Approach**: You will need to (1) consider pairs and (2) filter pairs to avoid double-counting and/or counting one person with themselves as a pair.\n",
    "    \n",
    "- **Hint #1**: Pick whichever approach is more intuitive. You can (a) compute all pairs, then filter out invalid pairs using hint #2 like 9.4 @ 4:20 https://youtu.be/FAYKJT1TFUA?t=254 OR (b) write the more efficient inner JOIN, using hint #2 as the join predicate, like 9.4 @ 3:19 https://youtu.be/FAYKJT1TFUA?t=199\n",
    "- **Hint #2**: To avoid double-counting and avoid counting one person with themselves as a pair, see 9.7 @ 7:19 https://youtu.be/6vkZUwkoAwM?t=439 \n",
    "</details>\n",
    "\n",
    "Output primary keys for both people `nconst1`, `nconst2` and for the film `tconst`. The first 3 lines of your output should look like the following (but you should compute the first 10 rows)\n",
    "\n",
    "|nconst1\t|nconst2\t|tconst|\n",
    "|---|---|---|\n",
    "|617588\t|29244\t|417|\n",
    "|617588\t|76933\t|417|\n",
    "|617588\t|242155\t|417|\n",
    "\n",
    "<!--\n",
    "BEGIN QUESTION\n",
    "name: q7a\n",
    "points: 2\n",
    "-->"
   ]
  },
  {
   "cell_type": "code",
   "execution_count": 75,
   "id": "07805846",
   "metadata": {},
   "outputs": [
    {
     "data": {
      "text/html": [
       "<div>\n",
       "<style scoped>\n",
       "    .dataframe tbody tr th:only-of-type {\n",
       "        vertical-align: middle;\n",
       "    }\n",
       "\n",
       "    .dataframe tbody tr th {\n",
       "        vertical-align: top;\n",
       "    }\n",
       "\n",
       "    .dataframe thead th {\n",
       "        text-align: right;\n",
       "    }\n",
       "</style>\n",
       "<table border=\"1\" class=\"dataframe\">\n",
       "  <thead>\n",
       "    <tr style=\"text-align: right;\">\n",
       "      <th></th>\n",
       "      <th>nconst1</th>\n",
       "      <th>nconst2</th>\n",
       "      <th>tconst</th>\n",
       "    </tr>\n",
       "  </thead>\n",
       "  <tbody>\n",
       "    <tr>\n",
       "      <th>0</th>\n",
       "      <td>617588</td>\n",
       "      <td>29244</td>\n",
       "      <td>417</td>\n",
       "    </tr>\n",
       "    <tr>\n",
       "      <th>1</th>\n",
       "      <td>617588</td>\n",
       "      <td>76933</td>\n",
       "      <td>417</td>\n",
       "    </tr>\n",
       "    <tr>\n",
       "      <th>2</th>\n",
       "      <td>617588</td>\n",
       "      <td>242155</td>\n",
       "      <td>417</td>\n",
       "    </tr>\n",
       "    <tr>\n",
       "      <th>3</th>\n",
       "      <td>617588</td>\n",
       "      <td>324073</td>\n",
       "      <td>417</td>\n",
       "    </tr>\n",
       "    <tr>\n",
       "      <th>4</th>\n",
       "      <td>76933</td>\n",
       "      <td>29244</td>\n",
       "      <td>417</td>\n",
       "    </tr>\n",
       "  </tbody>\n",
       "</table>\n",
       "</div>"
      ],
      "text/plain": [
       "   nconst1  nconst2  tconst\n",
       "0   617588    29244     417\n",
       "1   617588    76933     417\n",
       "2   617588   242155     417\n",
       "3   617588   324073     417\n",
       "4    76933    29244     417"
      ]
     },
     "execution_count": 75,
     "metadata": {},
     "output_type": "execute_result"
    }
   ],
   "source": [
    "query_q7a = \"\"\"\n",
    "CREATE VIEW Pair AS\n",
    "    SELECT A.nconst as nconst1, B.nconst as nconst2, A.tconst\n",
    "    FROM Role AS A\n",
    "    JOIN Role AS B\n",
    "    ON A.nconst > B.nconst\n",
    "    AND A.tconst = B.tconst\n",
    "    \n",
    "    \"\"\"\n",
    "\n",
    "\n",
    "#writing Pair to db\n",
    "engine.execute(\"DROP VIEW IF EXISTS Pair\")\n",
    "engine.execute(query_q7a)\n",
    "\n",
    "res_q7a = pd.read_sql(\"SELECT * FROM Pair LIMIT 10\", engine)\n",
    "res_q7a.head()"
   ]
  },
  {
   "cell_type": "code",
   "execution_count": 76,
   "id": "8d8c7ffa",
   "metadata": {
    "deletable": false,
    "editable": false
   },
   "outputs": [
    {
     "data": {
      "text/html": [
       "<p><strong><pre style='display: inline;'>q7a</pre></strong> passed!</p>"
      ],
      "text/plain": [
       "q7a results: All test cases passed!"
      ]
     },
     "execution_count": 76,
     "metadata": {},
     "output_type": "execute_result"
    }
   ],
   "source": [
    "grader.check(\"q7a\")"
   ]
  },
  {
   "cell_type": "markdown",
   "id": "9cfb1bea",
   "metadata": {
    "deletable": false,
    "editable": false
   },
   "source": [
    "### Question 7b: Report number of movies per pair.\n",
    "\n",
    "Details: For all pairs that have collaborated at least 50 times.\n",
    "\n",
    "<br/>\n",
    "\n",
    "<details>\n",
    "    <summary>▶ [Click to Expand] <b>Hints</b></summary>\n",
    "\n",
    "- Tests: group by over multiple columns\n",
    "- Our solution has 12 lines.\n",
    "</details>\n",
    "\n",
    "Output the names of both people, `name1` and `name2`, in addition to the number of collaborations `total`. The first 3 lines of your output should look like the following (but you should compute the whole table)\n",
    "\n",
    "|name1|\tname2|\ttotal|\n",
    "|---|---|---|\n",
    "|D.B. Weiss\t|David Benioff|\t74|\n",
    "|David Benioff|\tGeorge R.R. Martin|\t73|\n",
    "|D.B. Weiss|\tGeorge R.R. Martin|\t73|\n",
    "\n",
    "<!--\n",
    "BEGIN QUESTION\n",
    "name: q7b\n",
    "points: 3\n",
    "-->"
   ]
  },
  {
   "cell_type": "code",
   "execution_count": 77,
   "id": "242cf72a",
   "metadata": {},
   "outputs": [
    {
     "data": {
      "text/html": [
       "<div>\n",
       "<style scoped>\n",
       "    .dataframe tbody tr th:only-of-type {\n",
       "        vertical-align: middle;\n",
       "    }\n",
       "\n",
       "    .dataframe tbody tr th {\n",
       "        vertical-align: top;\n",
       "    }\n",
       "\n",
       "    .dataframe thead th {\n",
       "        text-align: right;\n",
       "    }\n",
       "</style>\n",
       "<table border=\"1\" class=\"dataframe\">\n",
       "  <thead>\n",
       "    <tr style=\"text-align: right;\">\n",
       "      <th></th>\n",
       "      <th>name1</th>\n",
       "      <th>name2</th>\n",
       "      <th>total</th>\n",
       "    </tr>\n",
       "  </thead>\n",
       "  <tbody>\n",
       "    <tr>\n",
       "      <th>0</th>\n",
       "      <td>D.B. Weiss</td>\n",
       "      <td>David Benioff</td>\n",
       "      <td>74</td>\n",
       "    </tr>\n",
       "    <tr>\n",
       "      <th>1</th>\n",
       "      <td>David Benioff</td>\n",
       "      <td>George R.R. Martin</td>\n",
       "      <td>73</td>\n",
       "    </tr>\n",
       "    <tr>\n",
       "      <th>2</th>\n",
       "      <td>D.B. Weiss</td>\n",
       "      <td>George R.R. Martin</td>\n",
       "      <td>73</td>\n",
       "    </tr>\n",
       "    <tr>\n",
       "      <th>3</th>\n",
       "      <td>David Benioff</td>\n",
       "      <td>Peter Dinklage</td>\n",
       "      <td>59</td>\n",
       "    </tr>\n",
       "    <tr>\n",
       "      <th>4</th>\n",
       "      <td>D.B. Weiss</td>\n",
       "      <td>Peter Dinklage</td>\n",
       "      <td>59</td>\n",
       "    </tr>\n",
       "  </tbody>\n",
       "</table>\n",
       "</div>"
      ],
      "text/plain": [
       "           name1               name2  total\n",
       "0     D.B. Weiss       David Benioff     74\n",
       "1  David Benioff  George R.R. Martin     73\n",
       "2     D.B. Weiss  George R.R. Martin     73\n",
       "3  David Benioff      Peter Dinklage     59\n",
       "4     D.B. Weiss      Peter Dinklage     59"
      ]
     },
     "execution_count": 77,
     "metadata": {},
     "output_type": "execute_result"
    }
   ],
   "source": [
    "\n",
    "query_q7b = \"\"\"\n",
    "SELECT  first.primaryName AS name1, second.primaryName AS name2, COUNT(*) as total\n",
    "FROM Pair\n",
    "JOIN Name AS first\n",
    "ON Pair.nconst1 = first.nconst\n",
    "JOIN Name AS second\n",
    "ON Pair.nconst2 = second.nconst\n",
    "GROUP BY nconst1, nconst2\n",
    "HAVING total >= 50\n",
    "ORDER BY total desc\n",
    "\n",
    "\"\"\"\n",
    "\n",
    "\n",
    "res_q7b = pd.read_sql(query_q7b, engine)\n",
    "res_q7b.head()"
   ]
  },
  {
   "cell_type": "code",
   "execution_count": 78,
   "id": "5f77fa02",
   "metadata": {
    "deletable": false,
    "editable": false
   },
   "outputs": [
    {
     "data": {
      "text/html": [
       "<p><strong><pre style='display: inline;'>q7b</pre></strong> passed!</p>"
      ],
      "text/plain": [
       "q7b results: All test cases passed!"
      ]
     },
     "execution_count": 78,
     "metadata": {},
     "output_type": "execute_result"
    }
   ],
   "source": [
    "grader.check(\"q7b\")"
   ]
  },
  {
   "cell_type": "code",
   "execution_count": null,
   "id": "b13abb8c-c104-4f60-97c3-25aa531b8b45",
   "metadata": {},
   "outputs": [],
   "source": [
    "#QUESTOIN 8 -- Attempting to find the actor with the most votes. "
   ]
  },
  {
   "cell_type": "code",
   "execution_count": 113,
   "id": "1c18a250-047c-4891-a606-afd7d6cbf764",
   "metadata": {},
   "outputs": [
    {
     "data": {
      "text/html": [
       "<div>\n",
       "<style scoped>\n",
       "    .dataframe tbody tr th:only-of-type {\n",
       "        vertical-align: middle;\n",
       "    }\n",
       "\n",
       "    .dataframe tbody tr th {\n",
       "        vertical-align: top;\n",
       "    }\n",
       "\n",
       "    .dataframe thead th {\n",
       "        text-align: right;\n",
       "    }\n",
       "</style>\n",
       "<table border=\"1\" class=\"dataframe\">\n",
       "  <thead>\n",
       "    <tr style=\"text-align: right;\">\n",
       "      <th></th>\n",
       "      <th>primaryName</th>\n",
       "      <th>total_votes</th>\n",
       "      <th>averageRating</th>\n",
       "    </tr>\n",
       "  </thead>\n",
       "  <tbody>\n",
       "    <tr>\n",
       "      <th>0</th>\n",
       "      <td>John Williams</td>\n",
       "      <td>16574610</td>\n",
       "      <td>8.2</td>\n",
       "    </tr>\n",
       "  </tbody>\n",
       "</table>\n",
       "</div>"
      ],
      "text/plain": [
       "     primaryName  total_votes averageRating\n",
       "0  John Williams     16574610           8.2"
      ]
     },
     "execution_count": 113,
     "metadata": {},
     "output_type": "execute_result"
    }
   ],
   "source": [
    "query_q8 = \"\"\"\n",
    "select primaryName, SUM(numVotes) as total_votes, averageRating\n",
    "FROM Role as first\n",
    "INNER JOIN Name as second\n",
    "ON first.nconst = second.nconst\n",
    "INNER JOIN Rating as third\n",
    "ON third.tconst = first.tconst\n",
    "GROUP BY primaryName\n",
    "ORDER BY total_votes desc\n",
    "LIMIT 1\n",
    "\n",
    "\n",
    "\n",
    "\n",
    "\"\"\"\n",
    "res_q8 = pd.read_sql(query_q8, engine)\n",
    "res_q8.head()"
   ]
  },
  {
   "cell_type": "code",
   "execution_count": null,
   "id": "6c41a979-50bf-43c4-aca8-6a58ee7e756b",
   "metadata": {},
   "outputs": [],
   "source": [
    "#Question 9 -- Attempting to find the average votes per category"
   ]
  },
  {
   "cell_type": "code",
   "execution_count": 126,
   "id": "2f273613-c32e-40bf-a16a-dde600d67caf",
   "metadata": {},
   "outputs": [
    {
     "data": {
      "text/html": [
       "<div>\n",
       "<style scoped>\n",
       "    .dataframe tbody tr th:only-of-type {\n",
       "        vertical-align: middle;\n",
       "    }\n",
       "\n",
       "    .dataframe tbody tr th {\n",
       "        vertical-align: top;\n",
       "    }\n",
       "\n",
       "    .dataframe thead th {\n",
       "        text-align: right;\n",
       "    }\n",
       "</style>\n",
       "<table border=\"1\" class=\"dataframe\">\n",
       "  <thead>\n",
       "    <tr style=\"text-align: right;\">\n",
       "      <th></th>\n",
       "      <th>category</th>\n",
       "      <th>Average_Votes</th>\n",
       "    </tr>\n",
       "  </thead>\n",
       "  <tbody>\n",
       "    <tr>\n",
       "      <th>0</th>\n",
       "      <td>writer</td>\n",
       "      <td>121433.907592</td>\n",
       "    </tr>\n",
       "    <tr>\n",
       "      <th>1</th>\n",
       "      <td>production_designer</td>\n",
       "      <td>120482.834146</td>\n",
       "    </tr>\n",
       "    <tr>\n",
       "      <th>2</th>\n",
       "      <td>director</td>\n",
       "      <td>119170.756540</td>\n",
       "    </tr>\n",
       "    <tr>\n",
       "      <th>3</th>\n",
       "      <td>editor</td>\n",
       "      <td>115807.299101</td>\n",
       "    </tr>\n",
       "    <tr>\n",
       "      <th>4</th>\n",
       "      <td>actor</td>\n",
       "      <td>115751.770736</td>\n",
       "    </tr>\n",
       "    <tr>\n",
       "      <th>5</th>\n",
       "      <td>producer</td>\n",
       "      <td>114977.071817</td>\n",
       "    </tr>\n",
       "    <tr>\n",
       "      <th>6</th>\n",
       "      <td>cinematographer</td>\n",
       "      <td>105208.147798</td>\n",
       "    </tr>\n",
       "    <tr>\n",
       "      <th>7</th>\n",
       "      <td>composer</td>\n",
       "      <td>104165.619209</td>\n",
       "    </tr>\n",
       "    <tr>\n",
       "      <th>8</th>\n",
       "      <td>actress</td>\n",
       "      <td>100769.440739</td>\n",
       "    </tr>\n",
       "    <tr>\n",
       "      <th>9</th>\n",
       "      <td>archive_footage</td>\n",
       "      <td>45300.060606</td>\n",
       "    </tr>\n",
       "    <tr>\n",
       "      <th>10</th>\n",
       "      <td>archive_sound</td>\n",
       "      <td>43864.833333</td>\n",
       "    </tr>\n",
       "    <tr>\n",
       "      <th>11</th>\n",
       "      <td>self</td>\n",
       "      <td>42241.482315</td>\n",
       "    </tr>\n",
       "  </tbody>\n",
       "</table>\n",
       "</div>"
      ],
      "text/plain": [
       "               category  Average_Votes\n",
       "0                writer  121433.907592\n",
       "1   production_designer  120482.834146\n",
       "2              director  119170.756540\n",
       "3                editor  115807.299101\n",
       "4                 actor  115751.770736\n",
       "5              producer  114977.071817\n",
       "6       cinematographer  105208.147798\n",
       "7              composer  104165.619209\n",
       "8               actress  100769.440739\n",
       "9       archive_footage   45300.060606\n",
       "10        archive_sound   43864.833333\n",
       "11                 self   42241.482315"
      ]
     },
     "execution_count": 126,
     "metadata": {},
     "output_type": "execute_result"
    }
   ],
   "source": [
    "query_q9 = \"\"\"\n",
    "select category, AVG(numVotes) AS Average_Votes\n",
    "FROM Role as first\n",
    "INNER JOIN Name as second\n",
    "ON first.nconst = second.nconst\n",
    "INNER JOIN Rating as third\n",
    "ON third.tconst = first.tconst\n",
    "GROUP BY category\n",
    "ORDER BY Average_Votes desc\n",
    "\"\"\"\n",
    "res_q9 = pd.read_sql(query_q9, engine)\n",
    "res_q9"
   ]
  },
  {
   "cell_type": "markdown",
   "id": "44eea2b7",
   "metadata": {
    "deletable": false,
    "editable": false
   },
   "source": [
    "---\n",
    "\n",
    "To double-check your work, the cell below will rerun all of the autograder tests."
   ]
  },
  {
   "cell_type": "code",
   "execution_count": 80,
   "id": "17096b39",
   "metadata": {
    "deletable": false,
    "editable": false
   },
   "outputs": [
    {
     "data": {
      "text/plain": [
       "q1 results: All test cases passed!\n",
       "\n",
       "q2 results: All test cases passed!\n",
       "\n",
       "q3 results: All test cases passed!\n",
       "\n",
       "q4 results: All test cases passed!\n",
       "\n",
       "q5 results: All test cases passed!\n",
       "\n",
       "q6a results: All test cases passed!\n",
       "\n",
       "q6b results: All test cases passed!\n",
       "\n",
       "q7a results: All test cases passed!\n",
       "\n",
       "q7b results: All test cases passed!"
      ]
     },
     "execution_count": 80,
     "metadata": {},
     "output_type": "execute_result"
    }
   ],
   "source": [
    "grader.check_all()"
   ]
  },
  {
   "cell_type": "markdown",
   "id": "e2284758",
   "metadata": {
    "deletable": false,
    "editable": false
   },
   "source": [
    "## Submission\n",
    "\n",
    "Make sure you have run all cells in your notebook in order before running the cell below, so that all images/graphs appear in the output. The cell below will generate a zip file for you to submit. **Please save before exporting!**"
   ]
  },
  {
   "cell_type": "code",
   "execution_count": 81,
   "id": "ae9495c5",
   "metadata": {
    "deletable": false,
    "editable": false
   },
   "outputs": [
    {
     "name": "stdout",
     "output_type": "stream",
     "text": [
      "There was an error generating your LaTeX\n",
      "Showing concise error message\n",
      "============================================================\n",
      "This is BibTeX, Version 0.99d (TeX Live 2019/Debian)\n",
      "The top-level auxiliary file: notebook.aux\n",
      "I found no \\citation commands---while reading file notebook.aux\n",
      "I found no \\bibdata command---while reading file notebook.aux\n",
      "I found no \\bibstyle command---while reading file notebook.aux\n",
      "(There were 3 error messages)\n",
      "\n",
      "============================================================\n"
     ]
    },
    {
     "name": "stderr",
     "output_type": "stream",
     "text": [
      "/opt/conda/lib/python3.9/site-packages/otter/check/notebook.py:326: UserWarning: Could not locate a PDF to include\n",
      "  warnings.warn(\"Could not locate a PDF to include\")\n"
     ]
    },
    {
     "data": {
      "text/html": [
       "\n",
       "            <p>Your submission has been exported. Click <a href=\"hw05_2022_06_29T14_37_42_286263.zip\" download=\"hw05_2022_06_29T14_37_42_286263.zip\" target=\"_blank\">here</a>\n",
       "            to download the zip file.</p>\n",
       "            "
      ],
      "text/plain": [
       "<IPython.core.display.HTML object>"
      ]
     },
     "metadata": {},
     "output_type": "display_data"
    }
   ],
   "source": [
    "# Save your notebook first, then run this cell to export your submission.\n",
    "grader.export()"
   ]
  },
  {
   "cell_type": "markdown",
   "id": "65e6d2b9",
   "metadata": {},
   "source": [
    " "
   ]
  }
 ],
 "metadata": {
  "kernelspec": {
   "display_name": "Python 3 (ipykernel)",
   "language": "python",
   "name": "python3"
  },
  "language_info": {
   "codemirror_mode": {
    "name": "ipython",
    "version": 3
   },
   "file_extension": ".py",
   "mimetype": "text/x-python",
   "name": "python",
   "nbconvert_exporter": "python",
   "pygments_lexer": "ipython3",
   "version": "3.9.13"
  }
 },
 "nbformat": 4,
 "nbformat_minor": 5
}
